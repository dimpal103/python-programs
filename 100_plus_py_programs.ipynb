{
  "nbformat": 4,
  "nbformat_minor": 0,
  "metadata": {
    "colab": {
      "name": "100_plus_py_programs.ipynb",
      "provenance": []
    },
    "kernelspec": {
      "name": "python3",
      "display_name": "Python 3"
    }
  },
  "cells": [
    {
      "cell_type": "code",
      "metadata": {
        "id": "iay5ry7TJdRX",
        "colab_type": "code",
        "colab": {
          "base_uri": "https://localhost:8080/",
          "height": 85
        },
        "outputId": "d9f98cbf-0c43-4069-f1c8-9045be6c9fe3"
      },
      "source": [
        "'''  A robot moves in a plane starting \n",
        "from the original point (0,0). \n",
        "The robot can move toward UP, DOWN, LEFT and RIGHT with a given steps.\n",
        "The trace of robot movement is shown as the following:\n",
        "UP 5\n",
        "DOWN 3\n",
        "LEFT 3\n",
        "RIGHT 2\n",
        "\n",
        "'''\n",
        "\n",
        "\n",
        "import math \n",
        "\n",
        "x,y = 0,0\n",
        "\n",
        "while True :\n",
        "  s = input(\"Please enter direction \\n UP DOWN LEFT or RIGHT \\n \\\n",
        "  then number of move\").split()\n",
        "\n",
        "  if not s :\n",
        "    break\n",
        "  \n",
        "  if s[0] == \"UP\" :\n",
        "    x += int(s[1])\n",
        "  if s[0] == \"DOWN\" :\n",
        "    x -= int(s[1])\n",
        "\n",
        "  if s[0] == \"RIGHT\" :\n",
        "    y += int(s[1])\n",
        "  if s[0] == \"LEFT\" :\n",
        "    y -= int(s[1])\n",
        "\n",
        "dist = round (math.sqrt(x**2 + y**2))\n",
        "print(\"Distance Travelled by Robot is \", end = \"   \")\n",
        "print(dist)\n",
        "\n",
        "\n",
        "\n",
        "\n",
        "\n"
      ],
      "execution_count": 8,
      "outputs": [
        {
          "output_type": "stream",
          "text": [
            "Please enter direction \n",
            " UP DOWN LEFT or RIGHT \n",
            "   then number of move\n",
            "Distance Travelled by Robot is    0\n"
          ],
          "name": "stdout"
        }
      ]
    },
    {
      "cell_type": "code",
      "metadata": {
        "id": "1bCJHktDNOBw",
        "colab_type": "code",
        "colab": {}
      },
      "source": [
        ""
      ],
      "execution_count": 0,
      "outputs": []
    }
  ]
}